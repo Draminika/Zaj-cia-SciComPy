{
 "cells": [
  {
   "cell_type": "code",
   "execution_count": 18,
   "metadata": {},
   "outputs": [
    {
     "name": "stdout",
     "output_type": "stream",
     "text": [
      "Oryginalny string to : Dominika\n",
      "Unicode to :\\u0044 \\u006F \\u006D \\u0069 \\u006E \\u0069 \\u006B \\u0061\n"
     ]
    }
   ],
   "source": [
    "import re\n",
    "test = 'Dominika'\n",
    "print(\"Oryginalny string to : \" +str(test))\n",
    "res = ' '.join(r'\\u{:04X}'.format(ord(chr)) for chr in test)\n",
    "print(\"Unicode to :\" + str(res))\n"
   ]
  }
 ],
 "metadata": {
  "kernelspec": {
   "display_name": "Python 3",
   "language": "python",
   "name": "python3"
  },
  "language_info": {
   "codemirror_mode": {
    "name": "ipython",
    "version": 3
   },
   "file_extension": ".py",
   "mimetype": "text/x-python",
   "name": "python",
   "nbconvert_exporter": "python",
   "pygments_lexer": "ipython3",
   "version": "3.11.2"
  },
  "orig_nbformat": 4
 },
 "nbformat": 4,
 "nbformat_minor": 2
}
