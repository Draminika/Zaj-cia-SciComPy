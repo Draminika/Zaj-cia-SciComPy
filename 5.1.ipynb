{
 "cells": [
  {
   "cell_type": "code",
   "execution_count": 8,
   "metadata": {},
   "outputs": [
    {
     "name": "stdout",
     "output_type": "stream",
     "text": [
      "Całkowity rozmiar plików PDF wynosi 52294170 bitów.\n"
     ]
    }
   ],
   "source": [
    "import os\n",
    "\n",
    "def find_pdf_size(top):\n",
    "    total_size = 0\n",
    "    for dirpath, dirnames, filenames in os.walk(top):\n",
    "        for filename in filenames:\n",
    "            if filename.endswith(\".pdf\"):\n",
    "                file_path = os.path.join(dirpath, filename)\n",
    "                total_size += os.path.getsize(file_path)\n",
    "    return total_size\n",
    "\n",
    "pdf_size = find_pdf_size(\"/Users/nelie/OneDrive/Pulpit/zajęcia\")\n",
    "print(f\"Całkowity rozmiar plików PDF wynosi {pdf_size} bitów.\")\n"
   ]
  }
 ],
 "metadata": {
  "kernelspec": {
   "display_name": "Python 3",
   "language": "python",
   "name": "python3"
  },
  "language_info": {
   "name": "python",
   "version": "3.11.2"
  },
  "orig_nbformat": 4
 },
 "nbformat": 4,
 "nbformat_minor": 2
}
