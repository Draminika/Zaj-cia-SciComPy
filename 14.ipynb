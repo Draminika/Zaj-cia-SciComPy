{
 "cells": [
  {
   "cell_type": "code",
   "execution_count": 7,
   "metadata": {},
   "outputs": [
    {
     "name": "stdout",
     "output_type": "stream",
     "text": [
      "Number of points: 10\t Approximation of pi: 3.6\n",
      "Number of points: 100\t Approximation of pi: 3.04\n",
      "Number of points: 1000\t Approximation of pi: 3.164\n",
      "Number of points: 10000\t Approximation of pi: 3.1224\n",
      "Number of points: 100000\t Approximation of pi: 3.13236\n",
      "Number of points: 1000000\t Approximation of pi: 3.14222\n"
     ]
    }
   ],
   "source": [
    "import random\n",
    "import math\n",
    "from numba import jit\n",
    "\n",
    "@jit(nopython=True)\n",
    "def approximate_pi(num_points):\n",
    "    points_inside_circle = 0\n",
    "\n",
    "    for _ in range(num_points):\n",
    "        x = random.uniform(0, 1)\n",
    "        y = random.uniform(0, 1)\n",
    "\n",
    "        if math.sqrt(x ** 2 + y ** 2) <= 1:\n",
    "            points_inside_circle += 1\n",
    "\n",
    "    pi_approx = 4.0 * points_inside_circle / num_points\n",
    "    return pi_approx\n",
    "\n",
    "num_points_list = [10, 10**2, 10**3, 10**4, 10**5, 10**6]\n",
    "\n",
    "for num_points in num_points_list:\n",
    "    pi_approx = approximate_pi(num_points)\n",
    "    print(f\"Number of points: {num_points}\\t Approximation of pi: {pi_approx}\")\n"
   ]
  }
 ],
 "metadata": {
  "kernelspec": {
   "display_name": "base",
   "language": "python",
   "name": "python3"
  },
  "language_info": {
   "codemirror_mode": {
    "name": "ipython",
    "version": 3
   },
   "file_extension": ".py",
   "mimetype": "text/x-python",
   "name": "python",
   "nbconvert_exporter": "python",
   "pygments_lexer": "ipython3",
   "version": "3.10.9"
  },
  "orig_nbformat": 4
 },
 "nbformat": 4,
 "nbformat_minor": 2
}
