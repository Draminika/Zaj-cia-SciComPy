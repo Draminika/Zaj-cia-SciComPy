{
 "cells": [
  {
   "cell_type": "code",
   "execution_count": 11,
   "metadata": {},
   "outputs": [
    {
     "name": "stdout",
     "output_type": "stream",
     "text": [
      "0\n",
      "1\n",
      "0\n",
      "1\n",
      "0\n",
      "1\n",
      "0\n",
      "1\n",
      "0\n",
      "1\n",
      "1\n",
      "1\n",
      "1\n",
      "0\n",
      "0\n",
      "1\n",
      "1\n",
      "1\n",
      "1\n",
      "1\n",
      "0\n",
      "1\n",
      "0\n",
      "-1\n",
      "0\n",
      "1\n",
      "0\n",
      "-1\n",
      "0\n",
      "1\n"
     ]
    }
   ],
   "source": [
    "import itertools\n",
    "import random\n",
    "\n",
    "def wara():\n",
    "    for i in itertools.cycle([0, 1]):\n",
    "        yield i\n",
    "\n",
    "for i, val in enumerate(wara()):\n",
    "    if i >= 10:\n",
    "        break\n",
    "    print(val)\n",
    "\n",
    "def warb():\n",
    "    for i in itertools.count():\n",
    "        yield random.randint(0, 1)\n",
    "\n",
    "for i, val in enumerate(warb()):\n",
    "    if i >= 10:\n",
    "        break\n",
    "    print(val)\n",
    "\n",
    "def warc():\n",
    "    for i in itertools.cycle([0, 1, 0, -1]):\n",
    "        yield i\n",
    "\n",
    "for i, val in enumerate(warc()):\n",
    "    if i >= 10:\n",
    "        break\n",
    "    print(val)"
   ]
  }
 ],
 "metadata": {
  "kernelspec": {
   "display_name": "Python 3",
   "language": "python",
   "name": "python3"
  },
  "language_info": {
   "codemirror_mode": {
    "name": "ipython",
    "version": 3
   },
   "file_extension": ".py",
   "mimetype": "text/x-python",
   "name": "python",
   "nbconvert_exporter": "python",
   "pygments_lexer": "ipython3",
   "version": "3.11.3"
  },
  "orig_nbformat": 4,
  "vscode": {
   "interpreter": {
    "hash": "251a62bd5cddd98a9c5bc04f3b0c7fd109249b9905dd4dd7343e42f3b2d650a4"
   }
  }
 },
 "nbformat": 4,
 "nbformat_minor": 2
}
