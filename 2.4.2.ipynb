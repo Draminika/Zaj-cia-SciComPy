{
 "cells": [
  {
   "cell_type": "code",
   "execution_count": 1,
   "metadata": {},
   "outputs": [
    {
     "name": "stdout",
     "output_type": "stream",
     "text": [
      "+---+--------------------+------+----------+\n",
      "|No.|Name (en)           |Symbol|Weight (u)|\n",
      "+---+--------------------+------+----------+\n",
      "|  1|Hydrogen            |  H   |         1|\n",
      "|  2|Helium              |  He  |         4|\n",
      "|  3|Lithium             |  Li  |         7|\n",
      "|  4|Beryllium           |  Be  |         9|\n",
      "|  5|Borium              |  B   |        11|\n",
      "|  6|Carbon              |  C   |        12|\n",
      "|  7|Nitrogen            |  N   |        14|\n",
      "|  8|Oxygen              |  O   |        16|\n",
      "|  9|Fluorine            |  F   |        19|\n",
      "| 10|Neon                |  Ne  |        20|\n",
      "+---+--------------------+------+----------+\n"
     ]
    }
   ],
   "source": [
    "No = [\"1\", \"2\", \"3\", \"4\", \"5\", \"6\", \"7\", \"8\", \"9\", \"10\"]\n",
    "Name = [\"Hydrogen\", \"Helium\", \"Lithium\", \"Beryllium\", \"Borium\", \"Carbon\", \"Nitrogen\", \"Oxygen\", \"Fluorine\", \"Neon\"]\n",
    "Symbol = [\"H\", \"He\", \"Li\", \"Be\", \"B\", \"C\", \"N\", \"O\", \"F\", \"Ne\"]\n",
    "Weight = [\"1\", \"4\", \"7\", \"9\", \"11\", \"12\", \"14\", \"16\", \"19\", \"20\"]\n",
    "b='+---+--------------------+------+----------+'\n",
    "print(b)\n",
    "print(\"|No.|Name (en)           |Symbol|Weight (u)|\")\n",
    "print(b)\n",
    "for x in range(0,10):\n",
    "    print(\"|\" + \"|\".join([(No[x]).rjust(3),Name[x].ljust(20),Symbol[x].center(6),Weight[x].rjust(10)]) + \"|\")\n",
    "print(b)"
   ]
  }
 ],
 "metadata": {
  "kernelspec": {
   "display_name": "Python 3",
   "language": "python",
   "name": "python3"
  },
  "language_info": {
   "codemirror_mode": {
    "name": "ipython",
    "version": 3
   },
   "file_extension": ".py",
   "mimetype": "text/x-python",
   "name": "python",
   "nbconvert_exporter": "python",
   "pygments_lexer": "ipython3",
   "version": "3.11.2"
  },
  "orig_nbformat": 4
 },
 "nbformat": 4,
 "nbformat_minor": 2
}
