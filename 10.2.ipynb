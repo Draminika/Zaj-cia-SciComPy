{
 "cells": [
  {
   "cell_type": "code",
   "execution_count": null,
   "metadata": {},
   "outputs": [],
   "source": [
    "import pandas as pd\n",
    "import datetime\n",
    "\n",
    "today = datetime.date.today()\n",
    "year = today.year\n",
    "month = today.month\n",
    "num_days = pd.Period(f'{year}-{month}').days_in_month\n",
    "index = pd.date_range(start=f'{year}-{month}-01', periods=num_days, freq='D')\n",
    "data = [25.5, 26.3, 24.8, 23.9, 22.7, 25.1, 26.6, 27.2, 26.4, 24.9, 23.5, 22.8, 25.7, 26.9, 27.3, 27.8, 26.2, 25.6, 24.3, 23.7, 25.9, 26.8, 27.5, 27.1, 25.3, 24.7, 23.2, 22.6, 25.4, 26.0, 27.0, 27.6]\n",
    "series = pd.Series(data, index=index)\n",
    "print(series)\n"
   ]
  }
 ],
 "metadata": {
  "language_info": {
   "name": "python"
  },
  "orig_nbformat": 4
 },
 "nbformat": 4,
 "nbformat_minor": 2
}
