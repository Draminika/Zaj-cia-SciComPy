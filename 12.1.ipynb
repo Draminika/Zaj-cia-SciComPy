{
  "metadata": {
    "language_info": {
      "codemirror_mode": {
        "name": "python",
        "version": 3
      },
      "file_extension": ".py",
      "mimetype": "text/x-python",
      "name": "python",
      "nbconvert_exporter": "python",
      "pygments_lexer": "ipython3",
      "version": "3.8"
    },
    "kernelspec": {
      "name": "python",
      "display_name": "Python (Pyodide)",
      "language": "python"
    }
  },
  "nbformat_minor": 4,
  "nbformat": 4,
  "cells": [
    {
      "cell_type": "code",
      "source": "import math\nimport unittest\n\nclass Vector:\n    def __init__(self, x, y, z):\n        self.x = x\n        self.y = y\n        self.z = z\n\n    def __eq__(self, other):\n        return (self.x == other.x) and (self.y == other.y) and (self.z == other.z)\n\n    def __ne__(self, other):\n        return not self == other\n\n    def __add__(self, other):\n        return Vector(self.x + other.x, self.y + other.y, self.z + other.z)\n\n    def __sub__(self, other):\n        return Vector(self.x - other.x, self.y - other.y, self.z - other.z)\n\n    def __mul__(self, other):\n        return self.x * other.x + self.y * other.y + self.z * other.z\n\n    def length(self):\n        return math.sqrt(self.x**2 + self.y**2 + self.z**2)\n\n    def cross(self, other):\n        return Vector(self.y * other.z - self.z * other.y,\n                      self.z * other.x - self.x * other.z,\n                      self.x * other.y - self.y * other.x)\n\nclass TestVector(unittest.TestCase):\n    def setUp(self):\n        self.v = Vector(1, 2, -2)\n        self.w = Vector(2, -1, 1)\n\n    def test_vector_equality(self):\n        self.assertEqual(self.v, Vector(1, 2, -2))\n        self.assertNotEqual(self.v, self.w)\n\n    def test_vector_addition(self):\n        result = self.v + self.w\n        self.assertEqual(result, Vector(3, 1, -1))\n\n    def test_vector_subtraction(self):\n        result = self.v - self.w\n        self.assertEqual(result, Vector(-1, 3, -3))\n\n    def test_vector_multiplication(self):\n        result = self.v * self.w\n        self.assertEqual(result, -255)\n\n    def test_vector_cross_product(self):\n        result = self.v.cross(self.w)\n        self.assertEqual(result, Vector(0, -5, -5))\n\nif __name__ == \"__main__\":\n    unittest.main()\n",
      "metadata": {
        "trusted": true
      },
      "execution_count": 8,
      "outputs": [
        {
          "name": "stderr",
          "text": ".....\n----------------------------------------------------------------------\nRan 5 tests in 0.003s\n\nOK\n/lib/python3.11/site-packages/IPython/core/interactiveshell.py:3516: UserWarning: To exit: use 'exit', 'quit', or Ctrl-D.\n  warn(\"To exit: use 'exit', 'quit', or Ctrl-D.\", stacklevel=1)\n",
          "output_type": "stream"
        },
        {
          "ename": "<class 'SystemExit'>",
          "evalue": "False",
          "traceback": [
            "An exception has occurred, use %tb to see the full traceback.\n",
            "\u001b[0;31mSystemExit\u001b[0m\u001b[0;31m:\u001b[0m False\n"
          ],
          "output_type": "error"
        }
      ]
    },
    {
      "cell_type": "code",
      "source": "",
      "metadata": {},
      "execution_count": null,
      "outputs": []
    }
  ]
}