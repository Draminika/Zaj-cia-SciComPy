{
 "cells": [
  {
   "cell_type": "code",
   "execution_count": 8,
   "metadata": {},
   "outputs": [
    {
     "name": "stdout",
     "output_type": "stream",
     "text": [
      "Image Mode: RGB\n",
      "Image Size: (720, 705)\n",
      "Image Format: JPEG\n",
      "Thumbnail created successfully.\n"
     ]
    }
   ],
   "source": [
    "from PIL import Image\n",
    "image_path = r\"C:\\Users\\nelie\\course_venv\\image.jpg\"\n",
    "image = Image.open(image_path)\n",
    "print(\"Image Mode:\", image.mode)\n",
    "print(\"Image Size:\", image.size)\n",
    "print(\"Image Format:\", image.format)\n",
    "thumbnail_size = (128, 128)\n",
    "thumbnail = image.copy()\n",
    "thumbnail.thumbnail(thumbnail_size)\n",
    "thumbnail_path = \"thumbnail.jpg\"\n",
    "thumbnail.save(thumbnail_path)\n",
    "print(\"Thumbnail created successfully.\")\n",
    "\n",
    "\n"
   ]
  }
 ],
 "metadata": {
  "kernelspec": {
   "display_name": "Python 3",
   "language": "python",
   "name": "python3"
  },
  "language_info": {
   "codemirror_mode": {
    "name": "ipython",
    "version": 3
   },
   "file_extension": ".py",
   "mimetype": "text/x-python",
   "name": "python",
   "nbconvert_exporter": "python",
   "pygments_lexer": "ipython3",
   "version": "3.11.3"
  },
  "orig_nbformat": 4
 },
 "nbformat": 4,
 "nbformat_minor": 2
}
