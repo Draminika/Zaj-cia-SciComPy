{
 "cells": [
  {
   "cell_type": "code",
   "execution_count": 13,
   "metadata": {},
   "outputs": [
    {
     "name": "stdout",
     "output_type": "stream",
     "text": [
      "Lista składa się z 136 wyrazów oraz 895 znaków czarnych, najdłuższy wyraz to pathogen-associated.\n",
      "['(DAMPs).', '(NLRs)', '(PAMPs),', '(PRPs).', '(TLRs)', '.', 'Abundant', 'adaptor', 'adaptor', 'addition', 'against', 'all', 'also', 'and', 'and', 'and', 'and', 'are', 'are', 'are', 'as', 'as', 'as', 'atherosclerosis', 'bacteria', 'Bacterial', 'bacterial', 'bacterial', 'binding,', 'by', 'called', 'can', 'can', 'cause', 'cells', 'chemokines', 'co-induce', 'complex', 'critical', 'cytokines,', 'damage-associated', 'development', 'development', 'diseases', 'factors', 'fight', 'fimbriae.', 'for', 'for', 'Genes', 'glycans', 'host', 'Host', 'host-derived', 'I', 'immune', 'immune', 'in', 'In', 'In', 'in', 'increased', 'induced', 'infection', 'interferon.', 'invading', 'involved', 'is', 'leading', 'ligand', 'ligand', 'lipoproteins,', 'LPS,', 'mannose-rich', 'molecular', 'molecular', 'most', 'MyD88,', 'NOD-like', 'of', 'of', 'of', 'of', 'of', 'one', 'PAMPs', 'particular,', 'pathogen-associated', 'pathological', 'pathways', 'pathways', 'pattern', 'patterns', 'patterns', 'pro-inflammatory', 'protein-dependent', 'proteins', 'PRPs', 'receptors', 'receptors', 'receptors', 'receptors', 'receptors', 'recognise', 'recognise', 'recognising', 'recognition', 'recruitment', 'response', 'responses', 'responsible', 'secretion', 'specific', 'such', 'such', 'such', 'surveillance', 'system.', 'the', 'the', 'the', 'the', 'the', 'they', 'through', 'to', 'to', 'to', 'Toll-like', 'TRAM,', 'Trif,', 'triggers', 'type', 'Upon', 'virulence', 'which']\n",
      "['.', 'I', 'as', 'as', 'as', 'by', 'in', 'In', 'In', 'in', 'is', 'of', 'of', 'of', 'of', 'of', 'to', 'to', 'to', 'all', 'and', 'and', 'and', 'and', 'are', 'are', 'are', 'can', 'can', 'for', 'for', 'one', 'the', 'the', 'the', 'the', 'the', 'also', 'host', 'Host', 'LPS,', 'most', 'PRPs', 'such', 'such', 'such', 'they', 'type', 'Upon', 'cause', 'cells', 'fight', 'Genes', 'PAMPs', 'TRAM,', 'Trif,', 'which', '(NLRs)', '(TLRs)', 'called', 'immune', 'immune', 'ligand', 'ligand', 'MyD88,', '(PRPs).', 'adaptor', 'adaptor', 'against', 'complex', 'factors', 'glycans', 'induced', 'leading', 'pattern', 'system.', 'through', '(DAMPs).', '(PAMPs),', 'Abundant', 'addition', 'bacteria', 'binding,', 'critical', 'diseases', 'invading', 'involved', 'NOD-like', 'pathways', 'pathways', 'patterns', 'patterns', 'proteins', 'response', 'specific', 'triggers', 'Bacterial', 'bacterial', 'bacterial', 'co-induce', 'fimbriae.', 'increased', 'infection', 'molecular', 'molecular', 'receptors', 'receptors', 'receptors', 'receptors', 'receptors', 'recognise', 'recognise', 'responses', 'secretion', 'Toll-like', 'virulence', 'chemokines', 'cytokines,', 'development', 'development', 'interferon.', 'particular,', 'recognising', 'recognition', 'recruitment', 'responsible', 'host-derived', 'mannose-rich', 'pathological', 'surveillance', 'lipoproteins,', 'atherosclerosis', 'pro-inflammatory', 'damage-associated', 'protein-dependent', 'pathogen-associated']\n"
     ]
    }
   ],
   "source": [
    "S = \"Bacterial infection is one of the most complex pathological responses in which bacterial virulence factors fight against the host immune system.  Host cells can recognise invading bacteria through surveillance receptors called pattern recognition receptors (PRPs). In addition to pathogen-associated molecular patterns (PAMPs), they also recognise host-derived damage-associated molecular patterns (DAMPs). In particular, Toll-like receptors (TLRs) and NOD-like receptors (NLRs) are receptors responsible for recognising bacterial PAMPs such as LPS, lipoproteins, mannose-rich glycans and fimbriae. Upon ligand binding, recruitment of specific adaptor proteins such as MyD88, Trif, TRAM, triggers adaptor protein-dependent pathways leading to increased secretion of pro-inflammatory cytokines, chemokines and type I interferon. Abundant ligand can cause all pathways to co-induce . Genes induced by PRPs are critical for the development of the immune response and are involved in the development of diseases such as atherosclerosis\"\n",
    "a = str(S.count(\" \"))\n",
    "b = str(len(S)-S.count(\" \"))\n",
    "c = max(S.split(), key = len)\n",
    "print(\"Lista składa się z \" + a + \" wyrazów oraz \" + b + \" znaków czarnych, najdłuższy wyraz to \" + c + \".\")\n",
    "d = S.split()\n",
    "d.sort(key = str.casefold)\n",
    "print(d)\n",
    "d.sort(key = len)\n",
    "print(d)"
   ]
  }
 ],
 "metadata": {
  "kernelspec": {
   "display_name": "Python 3",
   "language": "python",
   "name": "python3"
  },
  "language_info": {
   "codemirror_mode": {
    "name": "ipython",
    "version": 3
   },
   "file_extension": ".py",
   "mimetype": "text/x-python",
   "name": "python",
   "nbconvert_exporter": "python",
   "pygments_lexer": "ipython3",
   "version": "3.11.2"
  },
  "orig_nbformat": 4
 },
 "nbformat": 4,
 "nbformat_minor": 2
}
