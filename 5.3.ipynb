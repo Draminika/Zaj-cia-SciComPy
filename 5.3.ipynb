{
 "cells": [
  {
   "cell_type": "code",
   "execution_count": 3,
   "metadata": {},
   "outputs": [
    {
     "name": "stdout",
     "output_type": "stream",
     "text": [
      "random walk 1D\n",
      "0 -1 0 -1 -2 -1 -2 -3 -4 -3 -4 -3 -2 -3 -2 -3 -4 -3 -2 -3 -2 -3 -2 -1 -2 -3 -2 -1 0 1 2 1 2 3 4 5 \n",
      "positions after 100 steps\n",
      "[-10, -16, -10, 6, 2, -8, -16, 24, 8, -24]\n"
     ]
    }
   ],
   "source": [
    "import random\n",
    "def random_walk(start=0):\n",
    "    pos = start\n",
    "    while True:\n",
    "        yield pos\n",
    "        pos += random.choice([-1, 1])\n",
    "print(\"random walk 1D\")\n",
    "for pos in random_walk():\n",
    "    print(pos, end=' ')\n",
    "    if abs(pos) == 5:\n",
    "        break\n",
    "print()\n",
    "\n",
    "print(\"positions after 100 steps\")\n",
    "results = []\n",
    "for iteration in range (10):\n",
    "    rw = random_walk()\n",
    "    for step in range(100):\n",
    "        next(rw)\n",
    "\n",
    "    results.append(next(rw))\n",
    "print(results)"
   ]
  }
 ],
 "metadata": {
  "kernelspec": {
   "display_name": "Python 3",
   "language": "python",
   "name": "python3"
  },
  "language_info": {
   "codemirror_mode": {
    "name": "ipython",
    "version": 3
   },
   "file_extension": ".py",
   "mimetype": "text/x-python",
   "name": "python",
   "nbconvert_exporter": "python",
   "pygments_lexer": "ipython3",
   "version": "3.11.2"
  },
  "orig_nbformat": 4
 },
 "nbformat": 4,
 "nbformat_minor": 2
}
