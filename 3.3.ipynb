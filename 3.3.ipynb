{
 "cells": [
  {
   "cell_type": "code",
   "execution_count": 4,
   "metadata": {},
   "outputs": [
    {
     "name": "stdout",
     "output_type": "stream",
     "text": [
      "data saved . . .\n",
      "2022\n",
      " 3.14159\n",
      "Python\n",
      "książka\n",
      "\n"
     ]
    }
   ],
   "source": [
    "import math\n",
    "n = 2022\n",
    "x = round(math.pi, 5)\n",
    "word = 'Python'\n",
    "polish = 'książka'\n",
    "\n",
    "with open(\"vars.txt\", \"w\") as outfile:\n",
    "    for item in (n, f\"{x: .5f}\" , word, polish):\n",
    "            outfile.write( \"{}\\n\".format(item) )\n",
    "print(\"data saved . . .\")\n",
    "\n",
    "with open(\"vars.txt\", \"r\") as infile:\n",
    "    print(infile.read())\n",
    "    for line in infile:\n",
    "        print(line, end='')"
   ]
  }
 ],
 "metadata": {
  "kernelspec": {
   "display_name": "Python 3",
   "language": "python",
   "name": "python3"
  },
  "language_info": {
   "codemirror_mode": {
    "name": "ipython",
    "version": 3
   },
   "file_extension": ".py",
   "mimetype": "text/x-python",
   "name": "python",
   "nbconvert_exporter": "python",
   "pygments_lexer": "ipython3",
   "version": "3.11.2"
  },
  "orig_nbformat": 4
 },
 "nbformat": 4,
 "nbformat_minor": 2
}
