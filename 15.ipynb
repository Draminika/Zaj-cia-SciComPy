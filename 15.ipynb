{
 "cells": [
  {
   "cell_type": "code",
   "execution_count": 4,
   "metadata": {},
   "outputs": [],
   "source": [
    "import tkinter as tk\n",
    "from random import randint\n",
    "\n",
    "def roll_die():\n",
    "    result = randint(1, 6)\n",
    "    result_label.config(text=str(result))\n",
    "\n",
    "window = tk.Tk()\n",
    "window.title(\"Wyrzutnia kostek\")\n",
    "\n",
    "result_label = tk.Label(window, text=\"\", font=(\"Times New Roman\", 30), width=5)\n",
    "result_label.pack(pady=20)\n",
    "\n",
    "roll_button = tk.Button(window, text=\"Roll Die\", font=(\"Times New Roman\", 15), command=roll_die)\n",
    "roll_button.pack(pady=10)\n",
    "\n",
    "window.mainloop()\n"
   ]
  }
 ],
 "metadata": {
  "kernelspec": {
   "display_name": "base",
   "language": "python",
   "name": "python3"
  },
  "language_info": {
   "codemirror_mode": {
    "name": "ipython",
    "version": 3
   },
   "file_extension": ".py",
   "mimetype": "text/x-python",
   "name": "python",
   "nbconvert_exporter": "python",
   "pygments_lexer": "ipython3",
   "version": "3.10.9"
  },
  "orig_nbformat": 4
 },
 "nbformat": 4,
 "nbformat_minor": 2
}
