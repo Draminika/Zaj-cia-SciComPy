{
 "cells": [
  {
   "cell_type": "code",
   "execution_count": 1,
   "metadata": {},
   "outputs": [
    {
     "name": "stdout",
     "output_type": "stream",
     "text": [
      "1 is not important.\n",
      "2 is not important.\n",
      "3 is not important.\n",
      "4 is not important.\n",
      "5 is divided by 5.\n",
      "6 is not important.\n",
      "7 is divided by 7.\n",
      "8 is not important.\n",
      "9 is not important.\n",
      "10 is divided by 5.\n",
      "11 is not important.\n",
      "12 is not important.\n",
      "14 is divided by 7.\n",
      "15 is divided by 5.\n",
      "16 is not important.\n",
      "17 is not important.\n",
      "18 is not important.\n",
      "19 is not important.\n",
      "20 is divided by 5.\n",
      "21 is divided by 7.\n",
      "22 is not important.\n",
      "23 is not important.\n",
      "24 is not important.\n",
      "25 is divided by 5.\n",
      "26 is not important.\n",
      "27 is not important.\n",
      "28 is divided by 7.\n",
      "29 is not important.\n",
      "30 is divided by 5.\n",
      "31 is not important.\n",
      "32 is not important.\n",
      "33 is not important.\n",
      "34 is not important.\n",
      "35 is divided by 5.\n",
      "36 is not important.\n",
      "37 is not important.\n",
      "38 is not important.\n",
      "39 is not important.\n",
      "40 is divided by 5.\n"
     ]
    }
   ],
   "source": [
    "a = list()\n",
    "for x in range(1,41):\n",
    "    if x % 5 == 0:\n",
    "        print(x, \"is divided by 5.\")\n",
    "    elif x % 35 == 0:\n",
    "        print(x, \"is divided by 5 and 7.\")\n",
    "    elif x % 7 == 0:\n",
    "        print(x, \"is divided by 7.\")\n",
    "    elif x == 13:\n",
    "        pass\n",
    "    else:\n",
    "        print(\"{} is not important.\".format(x))"
   ]
  },
  {
   "cell_type": "code",
   "execution_count": 3,
   "metadata": {},
   "outputs": [
    {
     "name": "stdout",
     "output_type": "stream",
     "text": [
      "5 is divided by 5.\n",
      "7 is divided by 7.\n",
      "10 is divided by 5.\n",
      "14 is divided by 7.\n",
      "15 is divided by 5.\n",
      "20 is divided by 5.\n",
      "21 is divided by 7.\n",
      "25 is divided by 5.\n",
      "28 is divided by 7.\n",
      "30 is divided by 5.\n",
      "35 is divided by 5.\n",
      "Number [1, 2, 3, 4, 6, 8, 9, 11, 12, 13, 16, 17, 18, 19, 22, 23, 24, 26, 27, 29, 31, 32, 33, 34, 36, 37, 38, 39] is not important.\n"
     ]
    }
   ],
   "source": [
    "a = list()\n",
    "x = 1\n",
    "while x < 40:\n",
    "    if x % 5 == 0:\n",
    "        print(x, \"is divided by 5.\")\n",
    "        x += 1\n",
    "    elif x % 35 == 0:\n",
    "        print(x,\"is diveded by 5 and 7.\")\n",
    "        x += 1\n",
    "    elif x % 7 ==0:\n",
    "        print(x, \"is divided by 7.\")\n",
    "        x += 1\n",
    "    else:\n",
    "        a.append(x)\n",
    "        x += 1\n",
    "a = str(a)\n",
    "print(\"Number\", a, \"is not important.\")"
   ]
  }
 ],
 "metadata": {
  "kernelspec": {
   "display_name": "Python 3",
   "language": "python",
   "name": "python3"
  },
  "language_info": {
   "codemirror_mode": {
    "name": "ipython",
    "version": 3
   },
   "file_extension": ".py",
   "mimetype": "text/x-python",
   "name": "python",
   "nbconvert_exporter": "python",
   "pygments_lexer": "ipython3",
   "version": "3.11.2"
  },
  "orig_nbformat": 4
 },
 "nbformat": 4,
 "nbformat_minor": 2
}
