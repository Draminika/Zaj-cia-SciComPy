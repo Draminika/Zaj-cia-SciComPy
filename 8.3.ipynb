{
 "cells": [
  {
   "cell_type": "code",
   "execution_count": null,
   "metadata": {},
   "outputs": [],
   "source": [
    "import numpy as np\n",
    "\n",
    "m1 = np.array([[ 1,  2,  3,  4,  5],\n",
    "               [ 6,  7,  8,  9, 10],\n",
    "               [11, 12, 13, 14, 15],\n",
    "               [16, 17, 18, 19, 20]])\n",
    "print(m1)\n",
    "m2 = m1[:, ::-1]\n",
    "print(m2)\n",
    "m3 = m1[::-1, :]\n",
    "print(m3)\n",
    "m4 = m1[1:-1, 1:-1]\n",
    "print(m4)\n"
   ]
  }
 ],
 "metadata": {
  "language_info": {
   "name": "python"
  },
  "orig_nbformat": 4
 },
 "nbformat": 4,
 "nbformat_minor": 2
}
