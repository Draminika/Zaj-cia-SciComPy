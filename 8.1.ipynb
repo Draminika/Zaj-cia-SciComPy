{
 "cells": [
  {
   "cell_type": "code",
   "execution_count": null,
   "metadata": {},
   "outputs": [],
   "source": [
    "import numpy as np\n",
    "\n",
    "a = np.arange(0, 1.1, 0.1, dtype=np.float32)\n",
    "print(a)\n",
    "\n",
    "b = np.zeros((5,6), dtype=np.int8)\n",
    "print(b)\n",
    "\n",
    "x = np.array([0,1,2,3,4,5,6,7,8], dtype=complex)\n",
    "c = 4 ** x\n",
    "print(c)\n"
   ]
  }
 ],
 "metadata": {
  "kernelspec": {
   "display_name": "Python 3",
   "language": "python",
   "name": "python3"
  },
  "language_info": {
   "name": "python",
   "version": "3.11.3"
  },
  "orig_nbformat": 4
 },
 "nbformat": 4,
 "nbformat_minor": 2
}
