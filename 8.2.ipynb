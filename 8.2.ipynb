{
 "cells": [
  {
   "cell_type": "code",
   "execution_count": null,
   "metadata": {},
   "outputs": [],
   "source": [
    "import numpy as np\n",
    "\n",
    "v1 = np.array([6, 7, 6, 8, 3, 5])\n",
    "print(v1)\n",
    "v2 = v1[1::2]\n",
    "print(v2)\n",
    "v3 = v1[::-1]\n",
    "print(v3)\n"
   ]
  }
 ],
 "metadata": {
  "language_info": {
   "name": "python"
  },
  "orig_nbformat": 4
 },
 "nbformat": 4,
 "nbformat_minor": 2
}
