{
 "cells": [
  {
   "cell_type": "code",
   "execution_count": 71,
   "metadata": {},
   "outputs": [
    {
     "name": "stdout",
     "output_type": "stream",
     "text": [
      "Punkt znajduje się w obrębie koła.\n",
      "Obie współrzędne są dodatnie.\n",
      "Punkty sortowane są po malejącym y oraz rosnącym x: (0.4, 0.7)\n",
      "Punkty posortowanie po sumie: (0.4, 0.7)\n"
     ]
    }
   ],
   "source": [
    "import math\n",
    "\n",
    "promień = 1\n",
    "\n",
    "x = float(input(\"Podaj współrzędne x: \"))\n",
    "y = float(input(\"Podaj współrzędne y: \"))\n",
    "\n",
    "punktwkole = lambda p: math.sqrt(p[0]**2 + p[1]**2) <= 1\n",
    "dodatnie = lambda p: p[0] > 0 and p[1] > 0\n",
    "sort1 = lambda p: (-p[1], p[0])\n",
    "sort2 = lambda p: abs(p[0]) + abs(p[1])\n",
    "\n",
    "\n",
    "if punktwkole((x, y)):\n",
    "    print(\"Punkt znajduje się w obrębie koła.\")\n",
    "else:\n",
    "    print(\"Punkt nie znajduje się w obrębie koła.\")\n",
    "\n",
    "\n",
    "if dodatnie((x, y)):\n",
    "    print(\"Obie współrzędne są dodatnie.\")\n",
    "else:\n",
    "    print(\"Przynajmniej jedna współrzędna nie jest pozytywna.\")\n",
    "\n",
    "\n",
    "sorter1 = sorted([(x, y)], key=sort1)\n",
    "print(\"Punkty sortowane są po malejącym y oraz rosnącym x:\", sorter1[0])\n",
    "\n",
    "\n",
    "sorter2 = sorted([(x, y)], key=sort2)\n",
    "print(\"Punkty posortowanie po sumie:\", sorter2[0])\n"
   ]
  }
 ],
 "metadata": {
  "kernelspec": {
   "display_name": "Python 3",
   "language": "python",
   "name": "python3"
  },
  "language_info": {
   "codemirror_mode": {
    "name": "ipython",
    "version": 3
   },
   "file_extension": ".py",
   "mimetype": "text/x-python",
   "name": "python",
   "nbconvert_exporter": "python",
   "pygments_lexer": "ipython3",
   "version": "3.11.2"
  },
  "orig_nbformat": 4
 },
 "nbformat": 4,
 "nbformat_minor": 2
}
