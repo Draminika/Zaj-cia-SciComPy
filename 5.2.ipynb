{
 "cells": [
  {
   "cell_type": "code",
   "execution_count": 1,
   "metadata": {},
   "outputs": [
    {
     "name": "stdout",
     "output_type": "stream",
     "text": [
      "2023-04-03\n",
      "2023-04-04\n",
      "2023-04-05\n",
      "2023-04-06\n",
      "2023-04-07\n",
      "2023-04-10\n",
      "2023-04-11\n",
      "2023-04-12\n",
      "2023-04-13\n",
      "2023-04-14\n"
     ]
    }
   ],
   "source": [
    "import datetime\n",
    "\n",
    "def print_working_days1(date1, date2):\n",
    "    d1 = datetime.date.fromisoformat(date1)\n",
    "    d2 = datetime.date.fromisoformat(date2)\n",
    "    delta = datetime.timedelta(days=1)\n",
    "    day = d1\n",
    "    while day < d2:\n",
    "        if day.weekday() < 5:\n",
    "            print(day.isoformat())\n",
    "        day = day + delta   \n",
    "print_working_days1(\"2023-04-01\", \"2023-04-15\")\n"
   ]
  }
 ],
 "metadata": {
  "kernelspec": {
   "display_name": "Python 3",
   "language": "python",
   "name": "python3"
  },
  "language_info": {
   "codemirror_mode": {
    "name": "ipython",
    "version": 3
   },
   "file_extension": ".py",
   "mimetype": "text/x-python",
   "name": "python",
   "nbconvert_exporter": "python",
   "pygments_lexer": "ipython3",
   "version": "3.11.2"
  },
  "orig_nbformat": 4
 },
 "nbformat": 4,
 "nbformat_minor": 2
}
